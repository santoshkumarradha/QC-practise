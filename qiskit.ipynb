{
 "cells": [
  {
   "cell_type": "code",
   "execution_count": 1,
   "metadata": {},
   "outputs": [],
   "source": [
    "from qiskit import *\n",
    "import matplotlib.pyplot as plt"
   ]
  },
  {
   "cell_type": "code",
   "execution_count": 2,
   "metadata": {},
   "outputs": [],
   "source": [
    "\n",
    "def add(a,b,plot=0):\n",
    "    n=len(a)\n",
    "    q1=QuantumRegister(n,\"q1\")\n",
    "    q2=QuantumRegister(n,\"q2\")\n",
    "    cin=QuantumRegister(1,\"cin\")\n",
    "\n",
    "    out=QuantumRegister(n,\"out\")\n",
    "    cout=QuantumRegister(n,\"cout\")\n",
    "    classic_bits = ClassicalRegister(n+1,\"classical\")\n",
    "    qc=QuantumCircuit(q1,q2,cin,out,cout,classic_bits)\n",
    "    def set_q(qc,q1,a):\n",
    "        a=a[::-1]\n",
    "        for i,j in enumerate(a):\n",
    "            if int(j)==1:\n",
    "                qc.x(q1[i])\n",
    "    set_q(qc,q1,a)\n",
    "    set_q(qc,q2,b)\n",
    "    def make_sum(qc,q1,q2,cin,out,cout):\n",
    "        qc.cx(q1,out)\n",
    "        qc.cx(q2,out)\n",
    "        qc.cx(cin,out)\n",
    "        qc.ccx(q1,q2,cout)\n",
    "        qc.ccx(q1,cin,cout)\n",
    "        qc.ccx(q2,cin,cout)\n",
    "    for i in range(n):\n",
    "        if i==0:\n",
    "            make_sum(qc,q1[0],q2[0],cin,out[0],cout[0])\n",
    "        else:\n",
    "            make_sum(qc,q1[i],q2[i],cout[i-1],out[i],cout[i])\n",
    "    for i in range(n):\n",
    "        qc.measure(out[i],classic_bits[i])\n",
    "    qc.measure(cout[-1],classic_bits[-1])\n",
    "    if plot:\n",
    "        fig,ax=plt.subplots(figsize=(5,5))\n",
    "        qc.draw(\"mpl\",ax=ax,scale=0.5)\n",
    "        plt.tight_layout()\n",
    "        plt.savefig(\"add.png\",dpi=300)\n",
    "    return qc"
   ]
  },
  {
   "cell_type": "code",
   "execution_count": 3,
   "metadata": {},
   "outputs": [
    {
     "name": "stdout",
     "output_type": "stream",
     "text": [
      "{'000': 1024}\n"
     ]
    },
    {
     "data": {
      "image/png": "[encoded data removed]",
      "text/plain": [
       "<Figure size 552.603x313.04 with 1 Axes>"
      ]
     },
     "metadata": {},
     "output_type": "display_data"
    }
   ],
   "source": [
    "a=\"00\"\n",
    "b=\"00\"\n",
    "\n",
    "qc=add(a,b,plot=1)\n",
    "counts = execute(qc,Aer.get_backend('qasm_simulator')).result().get_counts()\n",
    "print(counts)"
   ]
  },
  {
   "cell_type": "code",
   "execution_count": 4,
   "metadata": {},
   "outputs": [],
   "source": [
    "!open ."
   ]
  },
  {
   "cell_type": "code",
   "execution_count": null,
   "metadata": {},
   "outputs": [],
   "source": []
  }
 ],
 "metadata": {
  "@webio": {
   "lastCommId": null,
   "lastKernelId": null
  },
  "kernelspec": {
   "display_name": "Python 3",
   "language": "python",
   "name": "python3"
  },
  "language_info": {
   "codemirror_mode": {
    "name": "ipython",
    "version": 3
   },
   "file_extension": ".py",
   "mimetype": "text/x-python",
   "name": "python",
   "nbconvert_exporter": "python",
   "pygments_lexer": "ipython3",
   "version": "3.8.5"
  }
 },
 "nbformat": 4,
 "nbformat_minor": 4
}
